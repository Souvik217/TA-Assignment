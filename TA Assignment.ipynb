{
 "cells": [
  {
   "cell_type": "markdown",
   "metadata": {},
   "source": [
    "# Question 1"
   ]
  },
  {
   "cell_type": "code",
   "execution_count": null,
   "metadata": {},
   "outputs": [],
   "source": [
    "def pattern(n):\n",
    "\n",
    "    for i in range(1, n+1):\n",
    "        for j in range(1, 2*(n-i+1)):     ##prints white spaces\n",
    "            print(\" \",end=\"\")\n",
    "     \n",
    "        \n",
    "        for j in range(1, i+1):          ##prints *\n",
    "            print(\"* \", end=\"\")\n",
    "     \n",
    "        print(\"\\r\")\n",
    " \n",
    "\n",
    "n = 5\n",
    "pattern(n)"
   ]
  },
  {
   "cell_type": "code",
   "execution_count": null,
   "metadata": {},
   "outputs": [],
   "source": [
    "def  contalpha(n):\n",
    "    alp= 65\n",
    " \n",
    "\n",
    "    for i in range(1, n+1):             ##outer loop \n",
    "\n",
    "        for j in range(1, i+1):         ##inner loop\n",
    "            c = chr(alp)                ##converts to char from ASCII value\n",
    "            print(c, end=\" \")           ##prints the character\n",
    "            alp = alp +1                ##increments the ASCII value\n",
    "\n",
    "        print(\"\\r\")\n",
    " \n",
    "\n",
    "n = 5\n",
    "contalpha(n)"
   ]
  },
  {
   "cell_type": "markdown",
   "metadata": {},
   "source": [
    "# Question 2"
   ]
  },
  {
   "cell_type": "code",
   "execution_count": null,
   "metadata": {},
   "outputs": [],
   "source": [
    "budget=int(input(\"Enter your budget: \"))\n",
    "print(\"\\r\")\n",
    "grocery_list={}\n",
    "while 1:\n",
    "    print(\"1.Add an item\")\n",
    "    print(\"2 Exit\")\n",
    "    print(\"\\r\")\n",
    "    i=input(\"Enter your choice: \")\n",
    "    print(\"\\r\")\n",
    "    if i=='1':\n",
    "        product=input(\"Enter Product: \")\n",
    "        quantity=input(\"Enter Quantity: \")           ## input should be in the form of \"X.X kg\"\n",
    "        q=float(quantity[0:-2])\n",
    "        price=int(input(\"Enter price: \"))\n",
    "        print(\"\\r\")\n",
    "        if budget-price>=0:\n",
    "            budget=budget-price\n",
    "            if product in grocery_list.keys():\n",
    "                grocery_list[product]['pri']=price+grocery_list[product]['pri']\n",
    "                grocery_list[product]['quant']=q+ grocery_list[product]['quant']\n",
    "            else:\n",
    "                grocery_list[product]={'pri':price,'quant':q}\n",
    "            if budget>0:   \n",
    "                print(\"Amount left : \",budget)\n",
    "                print(\"\\r\")\n",
    "            else:\n",
    "                break\n",
    "        else:\n",
    "            print(\"Over Price\")\n",
    "            print(\"Amount left : \",budget)\n",
    "            print(\"\\r\")\n",
    "        \n",
    "    else:\n",
    "        print(\"Amount left : \",budget)\n",
    "        print(\"\\r\")\n",
    "        l=[]\n",
    "        for key,value in grocery_list.items():\n",
    "            if value['pri']<=budget:\n",
    "                l.append(key)\n",
    "                \n",
    "        print(\"Amount left can buy you \",end=\"\")\n",
    "        for x in l:\n",
    "            print(x,end=\" \")\n",
    "        print(\"\\r\")\n",
    "                \n",
    "        break\n",
    "        \n",
    "print(\"GROCERY List is\")\n",
    "print(\"---------------\")\n",
    "print(\"\\r\")\n",
    "print(\"Product      Quantity      Price\")\n",
    "for key,value in grocery_list.items():\n",
    "    print(key+\"         \"+str(value['quant'])+\" kg\"+\"         \"+str(value['pri']))"
   ]
  },
  {
   "cell_type": "code",
   "execution_count": null,
   "metadata": {},
   "outputs": [],
   "source": []
  }
 ],
 "metadata": {
  "kernelspec": {
   "display_name": "Python 3",
   "language": "python",
   "name": "python3"
  },
  "language_info": {
   "codemirror_mode": {
    "name": "ipython",
    "version": 3
   },
   "file_extension": ".py",
   "mimetype": "text/x-python",
   "name": "python",
   "nbconvert_exporter": "python",
   "pygments_lexer": "ipython3",
   "version": "3.7.7"
  }
 },
 "nbformat": 4,
 "nbformat_minor": 4
}
